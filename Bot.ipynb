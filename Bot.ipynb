{
 "cells": [
  {
   "cell_type": "code",
   "execution_count": 1,
   "metadata": {},
   "outputs": [],
   "source": [
    "import tensorflow as tf # type: ignore\n",
    "import numpy as np # type: ignore\n",
    "import pandas as pd # type: ignore\n",
    "import json\n",
    "import string\n",
    "import random\n",
    "from tensorflow.keras.preprocessing.text import Tokenizer # type: ignore\n",
    "from tensorflow.keras.layers import Input, Embedding, LSTM, Dense, Flatten # type: ignore\n",
    "from tensorflow.keras.models import Model # type: ignore\n",
    "from tensorflow.keras.preprocessing.sequence import pad_sequences # type: ignore\n",
    "from sklearn.preprocessing import LabelEncoder # type: ignore\n",
    "\n",
    "# Load JSON data\n",
    "with open('intents.json') as file:\n",
    "    data = json.load(file)\n",
    "\n",
    "patterns = []\n",
    "tags = []\n",
    "responses = {}\n",
    "for intent in data['intents']:\n",
    "    responses[intent['tag']] = intent['responses']\n",
    "    for pattern in intent['patterns']:\n",
    "        patterns.append(pattern)\n",
    "        tags.append(intent['tag'])\n",
    "\n",
    "data = pd.DataFrame({\"pattern\": patterns, \"tags\": tags})\n"
   ]
  },
  {
   "cell_type": "code",
   "execution_count": 2,
   "metadata": {},
   "outputs": [],
   "source": [
    "# Tokenize and pad sequences\n",
    "tokenizer = Tokenizer(num_words=4000)\n",
    "tokenizer.fit_on_texts(data['pattern'])\n",
    "X_train = tokenizer.texts_to_sequences(data['pattern'])\n",
    "X_train = pad_sequences(X_train, maxlen=20)\n",
    "\n",
    "# Encode labels\n",
    "le = LabelEncoder()\n",
    "y_train = le.fit_transform(data['tags'])\n"
   ]
  },
  {
   "cell_type": "code",
   "execution_count": 3,
   "metadata": {},
   "outputs": [
    {
     "name": "stdout",
     "output_type": "stream",
     "text": [
      "Model: \"model\"\n",
      "_________________________________________________________________\n",
      " Layer (type)                Output Shape              Param #   \n",
      "=================================================================\n",
      " input_1 (InputLayer)        [(None, 20)]              0         \n",
      "                                                                 \n",
      " embedding (Embedding)       (None, 20, 10)            2800      \n",
      "                                                                 \n",
      " lstm (LSTM)                 (None, 20, 10)            840       \n",
      "                                                                 \n",
      " flatten (Flatten)           (None, 200)               0         \n",
      "                                                                 \n",
      " dense (Dense)               (None, 38)                7638      \n",
      "                                                                 \n",
      "=================================================================\n",
      "Total params: 11,278\n",
      "Trainable params: 11,278\n",
      "Non-trainable params: 0\n",
      "_________________________________________________________________\n"
     ]
    }
   ],
   "source": [
    "# Define the input shape\n",
    "sequence_length = 20  # Ensure this matches the maxlen used in padding\n",
    "vocabulary_size = len(tokenizer.word_index) + 1  # +1 for the padding token\n",
    "embedding_dim = 10\n",
    "num_classes = len(le.classes_)\n",
    "\n",
    "# Define the model\n",
    "inputs = Input(shape=(sequence_length,))\n",
    "x = Embedding(input_dim=vocabulary_size, output_dim=embedding_dim)(inputs)\n",
    "x = LSTM(10, return_sequences=True)(x)\n",
    "x = Flatten()(x)\n",
    "outputs = Dense(num_classes, activation=\"softmax\")(x)\n",
    "\n",
    "# Create and compile the model\n",
    "model = Model(inputs=inputs, outputs=outputs)\n",
    "model.compile(optimizer='adam', loss='sparse_categorical_crossentropy', metrics=['accuracy'])\n",
    "\n",
    "# Print model summary\n",
    "model.summary()\n"
   ]
  },
  {
   "cell_type": "code",
   "execution_count": null,
   "metadata": {},
   "outputs": [],
   "source": []
  },
  {
   "cell_type": "code",
   "execution_count": 4,
   "metadata": {},
   "outputs": [
    {
     "name": "stdout",
     "output_type": "stream",
     "text": [
      "Epoch 1/10\n",
      "32/32 [==============================] - 2s 9ms/step - loss: 3.6378 - accuracy: 0.0290\n",
      "Epoch 2/10\n",
      "32/32 [==============================] - 0s 8ms/step - loss: 3.6295 - accuracy: 0.0430\n",
      "Epoch 3/10\n",
      "32/32 [==============================] - 0s 8ms/step - loss: 3.6180 - accuracy: 0.0410\n",
      "Epoch 4/10\n",
      "32/32 [==============================] - 0s 9ms/step - loss: 3.6027 - accuracy: 0.0390\n",
      "Epoch 5/10\n",
      "32/32 [==============================] - 0s 9ms/step - loss: 3.5762 - accuracy: 0.0430\n",
      "Epoch 6/10\n",
      "32/32 [==============================] - 0s 7ms/step - loss: 3.5340 - accuracy: 0.0640\n",
      "Epoch 7/10\n",
      "32/32 [==============================] - 0s 8ms/step - loss: 3.4720 - accuracy: 0.0880\n",
      "Epoch 8/10\n",
      "32/32 [==============================] - 0s 9ms/step - loss: 3.4235 - accuracy: 0.0900\n",
      "Epoch 9/10\n",
      "32/32 [==============================] - 0s 8ms/step - loss: 3.3731 - accuracy: 0.1090\n",
      "Epoch 10/10\n",
      "32/32 [==============================] - 0s 10ms/step - loss: 3.3115 - accuracy: 0.1210\n"
     ]
    }
   ],
   "source": [
    "# Generate dummy data for demonstration\n",
    "X_train_dummy = np.random.randint(0, vocabulary_size, (1000, sequence_length))\n",
    "y_train_dummy = np.random.randint(0, num_classes, 1000)\n",
    "\n",
    "# Train the model\n",
    "try:\n",
    "    history = model.fit(X_train_dummy, y_train_dummy, epochs=10, batch_size=32)\n",
    "except Exception as e:\n",
    "    print(f\"Error during training: {e}\")\n"
   ]
  },
  {
   "cell_type": "code",
   "execution_count": 6,
   "metadata": {},
   "outputs": [
    {
     "name": "stdout",
     "output_type": "stream",
     "text": [
      "1/1 [==============================] - 0s 14ms/step\n",
      "Bot: ENTER YOUR OWN UNIVERSITY UNIFORM CIRCULER\n",
      "1/1 [==============================] - 0s 28ms/step\n",
      "Bot: ENTER YOUR OWN UNIVERSITY UNIFORM CIRCULER\n",
      "1/1 [==============================] - 0s 11ms/step\n",
      "Bot: ENTER YOUR OWN UNIVERSITY UNIFORM CIRCULER\n"
     ]
    }
   ],
   "source": [
    "while True:\n",
    "    prediction_input = input(\"You: \")\n",
    "    \n",
    "    # Preprocess the input\n",
    "    prediction_input = prediction_input.lower()\n",
    "    prediction_input = ''.join(char for char in prediction_input if char not in string.punctuation)\n",
    "    \n",
    "    # Tokenize and pad the input\n",
    "    prediction_input_seq = tokenizer.texts_to_sequences([prediction_input])\n",
    "    prediction_input_padded = pad_sequences(prediction_input_seq, maxlen=sequence_length)\n",
    "    \n",
    "    # Predict and get the output\n",
    "    try:\n",
    "        output = model.predict(prediction_input_padded)\n",
    "        predicted_tag = le.inverse_transform([output.argmax()])[0]\n",
    "        \n",
    "        # Output a response\n",
    "        print(\"Bot:\", random.choice(responses.get(predicted_tag, [\"Sorry, I don't understand.\"])))\n",
    "        \n",
    "        if predicted_tag == 'goodbye':\n",
    "            break\n",
    "    except Exception as e:\n",
    "        print(f\"Error during prediction: {e}\")\n"
   ]
  }
 ],
 "metadata": {
  "kernelspec": {
   "display_name": "Python 3",
   "language": "python",
   "name": "python3"
  },
  "language_info": {
   "codemirror_mode": {
    "name": "ipython",
    "version": 3
   },
   "file_extension": ".py",
   "mimetype": "text/x-python",
   "name": "python",
   "nbconvert_exporter": "python",
   "pygments_lexer": "ipython3",
   "version": "3.7.4"
  }
 },
 "nbformat": 4,
 "nbformat_minor": 2
}
